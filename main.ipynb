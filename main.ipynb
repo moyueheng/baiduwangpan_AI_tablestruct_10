{
 "cells": [
  {
   "attachments": {},
   "cell_type": "markdown",
   "metadata": {},
   "source": [
    "# 百度网盘AI大赛-表格检测进阶：表格的结构化赛第10名方案"
   ]
  },
  {
   "attachments": {},
   "cell_type": "markdown",
   "metadata": {},
   "source": [
    "# 1. 数据集准备\n",
    "观察数据集, 以及预测结果得出数据集存在一下问题\n",
    "1. 非自然场景数据量偏少\n",
    "2. 当非自然场景的数据存在, 模糊, 倾斜, 遮挡物时识别准确率偏低\n",
    "根据这两个问题, 我们结合了 https://github.com/Belval/TextRecognitionDataGenerator 和 https://github.com/WenmuZhou/TableGeneration 这两个项目, 并开源到了 https://github.com/moyueheng/TableGeneration 进行数据生成, 获得了模糊, 倾斜的数据\n",
    "\n",
    "链接: https://pan.baidu.com/s/1x0ZxC-2bz7Oy_iRrw0VwBw?pwd=grit 提取码: grit \n",
    "\n",
    "将数据集下载到 data 文件夹"
   ]
  },
  {
   "cell_type": "code",
   "execution_count": 2,
   "metadata": {},
   "outputs": [],
   "source": [
    "import os\n",
    "from os.path import join as pjoin\n",
    "workr_space = os.getcwd()\n",
    "data_dir = pjoin(workr_space, 'data')"
   ]
  },
  {
   "cell_type": "code",
   "execution_count": 4,
   "metadata": {},
   "outputs": [],
   "source": [
    "# 解压\n",
    "!unzip -oq data/testA.zip -d data\n",
    "!unzip -oq data/train.zip -d data\n",
    "!unzip -oq data/gen_table_2.5k.zip -d data"
   ]
  },
  {
   "cell_type": "code",
   "execution_count": 5,
   "metadata": {},
   "outputs": [],
   "source": [
    "# 合并成一个扩展数据集\n",
    "\n",
    "# 合并标注文件\n",
    "gen_annos_path = pjoin(data_dir, 'gen_table_2.5k/gen_annos.txt') \n",
    "annos_path = pjoin(data_dir, 'train/annos.txt') \n",
    "ext_annos_path = pjoin(data_dir, 'ext_annos.txt') \n",
    "\n",
    "import json\n",
    "with open(gen_annos_path, 'r') as f:\n",
    "    gen_annos = json.load(f)\n",
    "\n",
    "with open(annos_path, 'r') as f:\n",
    "    annos = json.load(f)\n",
    "annos.update(gen_annos)\n",
    "with open(ext_annos_path, 'w') as f:\n",
    "    json.dump(annos, f)\n",
    "\n",
    "# 合并标注图片\n",
    "from tqdm import tqdm\n",
    "import os\n",
    "ext_imgs_dir =  pjoin(data_dir, 'ext_imgs')\n",
    "gen_imgs_dir =  pjoin(data_dir, 'gen_table_2.5k/img')\n",
    "train_imgs_dir =  pjoin(data_dir, 'train/imgs')\n",
    "\n",
    "os.makedirs(ext_imgs_dir, exist_ok=True)\n",
    "\n",
    "import os\n",
    "import shutil\n",
    "def copy_images(src_dir, dst_dir):\n",
    "    # 获取源目录下所有文件名\n",
    "    file_list = os.listdir(src_dir)\n",
    "    # 循环复制每个文件到目标目录\n",
    "    for file_name in file_list:\n",
    "        src_file = os.path.join(src_dir, file_name)\n",
    "        dst_file = os.path.join(dst_dir, file_name)\n",
    "        shutil.copy2(src_file, dst_file)\n",
    "\n",
    "\n",
    "copy_images(gen_imgs_dir, ext_imgs_dir)\n",
    "copy_images(train_imgs_dir,ext_imgs_dir)\n"
   ]
  },
  {
   "attachments": {},
   "cell_type": "markdown",
   "metadata": {},
   "source": [
    "# 2.下载训练代码"
   ]
  },
  {
   "cell_type": "code",
   "execution_count": 6,
   "metadata": {},
   "outputs": [
    {
     "name": "stdout",
     "output_type": "stream",
     "text": [
      "fatal: destination path 'PaddleDetection' already exists and is not an empty directory.\n"
     ]
    }
   ],
   "source": [
    "!git clone https://gitee.com/paddlepaddle/PaddleDetection.git"
   ]
  },
  {
   "cell_type": "code",
   "execution_count": 7,
   "metadata": {},
   "outputs": [
    {
     "name": "stdout",
     "output_type": "stream",
     "text": [
      "/jinx/table_struct/baiduwangpan_AI_tablestruct_10/PaddleDetection\n",
      "Looking in indexes: https://pypi.tuna.tsinghua.edu.cn/simple\n",
      "Requirement already satisfied: numpy<1.24 in /usr/local/lib/python3.7/dist-packages (from -r requirements.txt (line 1)) (1.21.6)\n",
      "Requirement already satisfied: tqdm in /usr/local/lib/python3.7/dist-packages (from -r requirements.txt (line 2)) (4.64.1)\n",
      "Requirement already satisfied: typeguard in /usr/local/lib/python3.7/dist-packages (from -r requirements.txt (line 3)) (2.13.3)\n",
      "Requirement already satisfied: visualdl>=2.2.0 in /usr/local/lib/python3.7/dist-packages (from -r requirements.txt (line 4)) (2.5.0)\n",
      "Requirement already satisfied: opencv-python<=4.6.0 in /usr/local/lib/python3.7/dist-packages (from -r requirements.txt (line 5)) (4.5.5.64)\n",
      "Requirement already satisfied: PyYAML in /usr/local/lib/python3.7/dist-packages (from -r requirements.txt (line 6)) (6.0)\n",
      "Requirement already satisfied: shapely in /usr/local/lib/python3.7/dist-packages (from -r requirements.txt (line 7)) (2.0.1)\n",
      "Requirement already satisfied: scipy in /usr/local/lib/python3.7/dist-packages (from -r requirements.txt (line 8)) (1.7.3)\n",
      "Requirement already satisfied: terminaltables in /usr/local/lib/python3.7/dist-packages (from -r requirements.txt (line 9)) (3.1.10)\n",
      "Requirement already satisfied: Cython in /usr/local/lib/python3.7/dist-packages (from -r requirements.txt (line 10)) (0.29.33)\n",
      "Requirement already satisfied: pycocotools in /usr/local/lib/python3.7/dist-packages (from -r requirements.txt (line 11)) (2.0.6)\n",
      "Requirement already satisfied: setuptools in /root/.local/lib/python3.7/site-packages (from -r requirements.txt (line 12)) (67.4.0)\n",
      "Requirement already satisfied: lap in /usr/local/lib/python3.7/dist-packages (from -r requirements.txt (line 15)) (0.4.0)\n",
      "Requirement already satisfied: motmetrics in /usr/local/lib/python3.7/dist-packages (from -r requirements.txt (line 16)) (1.4.0)\n",
      "Requirement already satisfied: sklearn==0.0 in /usr/local/lib/python3.7/dist-packages (from -r requirements.txt (line 17)) (0.0)\n",
      "Requirement already satisfied: pyclipper in /usr/local/lib/python3.7/dist-packages (from -r requirements.txt (line 20)) (1.3.0.post4)\n",
      "Requirement already satisfied: attrdict in /usr/local/lib/python3.7/dist-packages (from visualdl>=2.2.0->-r requirements.txt (line 4)) (2.0.1)\n",
      "Requirement already satisfied: gradio in /usr/local/lib/python3.7/dist-packages (from visualdl>=2.2.0->-r requirements.txt (line 4)) (3.19.1)\n",
      "Requirement already satisfied: matplotlib in /usr/local/lib/python3.7/dist-packages (from visualdl>=2.2.0->-r requirements.txt (line 4)) (3.5.3)\n",
      "Requirement already satisfied: rarfile in /usr/local/lib/python3.7/dist-packages (from visualdl>=2.2.0->-r requirements.txt (line 4)) (4.0)\n",
      "Requirement already satisfied: Pillow>=7.0.0 in /usr/local/lib/python3.7/dist-packages (from visualdl>=2.2.0->-r requirements.txt (line 4)) (9.2.0)\n",
      "Requirement already satisfied: multiprocess in /usr/local/lib/python3.7/dist-packages (from visualdl>=2.2.0->-r requirements.txt (line 4)) (0.70.14)\n",
      "Requirement already satisfied: psutil in /root/.local/lib/python3.7/site-packages (from visualdl>=2.2.0->-r requirements.txt (line 4)) (5.9.4)\n",
      "Requirement already satisfied: pandas in /usr/local/lib/python3.7/dist-packages (from visualdl>=2.2.0->-r requirements.txt (line 4)) (1.3.5)\n",
      "Requirement already satisfied: tritonclient[all] in /usr/local/lib/python3.7/dist-packages (from visualdl>=2.2.0->-r requirements.txt (line 4)) (2.31.0)\n",
      "Requirement already satisfied: protobuf>=3.11.0 in /usr/local/lib/python3.7/dist-packages (from visualdl>=2.2.0->-r requirements.txt (line 4)) (3.20.0)\n",
      "Requirement already satisfied: flask>=1.1.1 in /usr/local/lib/python3.7/dist-packages (from visualdl>=2.2.0->-r requirements.txt (line 4)) (2.2.3)\n",
      "Requirement already satisfied: bce-python-sdk in /usr/local/lib/python3.7/dist-packages (from visualdl>=2.2.0->-r requirements.txt (line 4)) (0.8.79)\n",
      "Requirement already satisfied: six>=1.14.0 in /root/.local/lib/python3.7/site-packages (from visualdl>=2.2.0->-r requirements.txt (line 4)) (1.16.0)\n",
      "Requirement already satisfied: onnx>=1.6.0 in /usr/local/lib/python3.7/dist-packages (from visualdl>=2.2.0->-r requirements.txt (line 4)) (1.13.1)\n",
      "Requirement already satisfied: x2paddle in /usr/local/lib/python3.7/dist-packages (from visualdl>=2.2.0->-r requirements.txt (line 4)) (1.4.0)\n",
      "Requirement already satisfied: requests in /usr/local/lib/python3.7/dist-packages (from visualdl>=2.2.0->-r requirements.txt (line 4)) (2.28.1)\n",
      "Requirement already satisfied: packaging in /root/.local/lib/python3.7/site-packages (from visualdl>=2.2.0->-r requirements.txt (line 4)) (23.0)\n",
      "Requirement already satisfied: Flask-Babel>=3.0.0 in /usr/local/lib/python3.7/dist-packages (from visualdl>=2.2.0->-r requirements.txt (line 4)) (3.0.1)\n",
      "Requirement already satisfied: xmltodict>=0.12.0 in /usr/local/lib/python3.7/dist-packages (from motmetrics->-r requirements.txt (line 16)) (0.13.0)\n",
      "Requirement already satisfied: scikit-learn in /usr/local/lib/python3.7/dist-packages (from sklearn==0.0->-r requirements.txt (line 17)) (1.0.2)\n",
      "Requirement already satisfied: pydantic in /usr/local/lib/python3.7/dist-packages (from gradio->visualdl>=2.2.0->-r requirements.txt (line 4)) (1.10.5)\n",
      "Requirement already satisfied: fsspec in /usr/local/lib/python3.7/dist-packages (from gradio->visualdl>=2.2.0->-r requirements.txt (line 4)) (2023.1.0)\n",
      "Requirement already satisfied: ffmpy in /usr/local/lib/python3.7/dist-packages (from gradio->visualdl>=2.2.0->-r requirements.txt (line 4)) (0.3.0)\n",
      "Requirement already satisfied: pydub in /usr/local/lib/python3.7/dist-packages (from gradio->visualdl>=2.2.0->-r requirements.txt (line 4)) (0.25.1)\n",
      "Requirement already satisfied: httpx in /usr/local/lib/python3.7/dist-packages (from gradio->visualdl>=2.2.0->-r requirements.txt (line 4)) (0.23.3)\n",
      "Requirement already satisfied: markdown-it-py[linkify]>=2.0.0 in /usr/local/lib/python3.7/dist-packages (from gradio->visualdl>=2.2.0->-r requirements.txt (line 4)) (2.2.0)\n",
      "Requirement already satisfied: orjson in /usr/local/lib/python3.7/dist-packages (from gradio->visualdl>=2.2.0->-r requirements.txt (line 4)) (3.8.7)\n",
      "Requirement already satisfied: jinja2 in /usr/local/lib/python3.7/dist-packages (from gradio->visualdl>=2.2.0->-r requirements.txt (line 4)) (3.1.2)\n",
      "Requirement already satisfied: python-multipart in /usr/local/lib/python3.7/dist-packages (from gradio->visualdl>=2.2.0->-r requirements.txt (line 4)) (0.0.6)\n",
      "Requirement already satisfied: typing-extensions in /usr/local/lib/python3.7/dist-packages (from gradio->visualdl>=2.2.0->-r requirements.txt (line 4)) (4.3.0)\n",
      "Requirement already satisfied: uvicorn in /usr/local/lib/python3.7/dist-packages (from gradio->visualdl>=2.2.0->-r requirements.txt (line 4)) (0.20.0)\n",
      "Requirement already satisfied: markupsafe in /usr/local/lib/python3.7/dist-packages (from gradio->visualdl>=2.2.0->-r requirements.txt (line 4)) (2.1.2)\n",
      "Requirement already satisfied: altair>=4.2.0 in /usr/local/lib/python3.7/dist-packages (from gradio->visualdl>=2.2.0->-r requirements.txt (line 4)) (4.2.2)\n",
      "Requirement already satisfied: fastapi in /usr/local/lib/python3.7/dist-packages (from gradio->visualdl>=2.2.0->-r requirements.txt (line 4)) (0.92.0)\n",
      "Requirement already satisfied: mdit-py-plugins<=0.3.3 in /usr/local/lib/python3.7/dist-packages (from gradio->visualdl>=2.2.0->-r requirements.txt (line 4)) (0.3.3)\n",
      "Requirement already satisfied: aiohttp in /usr/local/lib/python3.7/dist-packages (from gradio->visualdl>=2.2.0->-r requirements.txt (line 4)) (3.8.4)\n",
      "Requirement already satisfied: websockets>=10.0 in /usr/local/lib/python3.7/dist-packages (from gradio->visualdl>=2.2.0->-r requirements.txt (line 4)) (10.4)\n",
      "Requirement already satisfied: aiofiles in /usr/local/lib/python3.7/dist-packages (from gradio->visualdl>=2.2.0->-r requirements.txt (line 4)) (23.1.0)\n",
      "Requirement already satisfied: pycryptodome in /usr/local/lib/python3.7/dist-packages (from gradio->visualdl>=2.2.0->-r requirements.txt (line 4)) (3.17)\n",
      "Requirement already satisfied: fonttools>=4.22.0 in /usr/local/lib/python3.7/dist-packages (from matplotlib->visualdl>=2.2.0->-r requirements.txt (line 4)) (4.38.0)\n",
      "Requirement already satisfied: kiwisolver>=1.0.1 in /usr/local/lib/python3.7/dist-packages (from matplotlib->visualdl>=2.2.0->-r requirements.txt (line 4)) (1.4.4)\n",
      "Requirement already satisfied: pyparsing>=2.2.1 in /usr/local/lib/python3.7/dist-packages (from matplotlib->visualdl>=2.2.0->-r requirements.txt (line 4)) (3.0.9)\n",
      "Requirement already satisfied: python-dateutil>=2.7 in /root/.local/lib/python3.7/site-packages (from matplotlib->visualdl>=2.2.0->-r requirements.txt (line 4)) (2.8.2)\n",
      "Requirement already satisfied: cycler>=0.10 in /usr/local/lib/python3.7/dist-packages (from matplotlib->visualdl>=2.2.0->-r requirements.txt (line 4)) (0.11.0)\n",
      "Requirement already satisfied: dill>=0.3.6 in /usr/local/lib/python3.7/dist-packages (from multiprocess->visualdl>=2.2.0->-r requirements.txt (line 4)) (0.3.6)\n",
      "Requirement already satisfied: pytz>=2017.3 in /usr/local/lib/python3.7/dist-packages (from pandas->visualdl>=2.2.0->-r requirements.txt (line 4)) (2022.7.1)\n",
      "Requirement already satisfied: python-rapidjson>=0.9.1 in /usr/local/lib/python3.7/dist-packages (from tritonclient[all]->visualdl>=2.2.0->-r requirements.txt (line 4)) (1.9)\n",
      "Requirement already satisfied: geventhttpclient<=2.0.2,>=1.4.4; extra == \"all\" in /usr/local/lib/python3.7/dist-packages (from tritonclient[all]->visualdl>=2.2.0->-r requirements.txt (line 4)) (2.0.2)\n",
      "Requirement already satisfied: grpcio>=1.41.0; extra == \"all\" in /usr/local/lib/python3.7/dist-packages (from tritonclient[all]->visualdl>=2.2.0->-r requirements.txt (line 4)) (1.51.3)\n",
      "Requirement already satisfied: Werkzeug>=2.2.2 in /usr/local/lib/python3.7/dist-packages (from flask>=1.1.1->visualdl>=2.2.0->-r requirements.txt (line 4)) (2.2.3)\n",
      "Requirement already satisfied: click>=8.0 in /usr/local/lib/python3.7/dist-packages (from flask>=1.1.1->visualdl>=2.2.0->-r requirements.txt (line 4)) (8.1.3)\n",
      "Requirement already satisfied: importlib-metadata>=3.6.0; python_version < \"3.10\" in /usr/local/lib/python3.7/dist-packages (from flask>=1.1.1->visualdl>=2.2.0->-r requirements.txt (line 4)) (4.12.0)\n",
      "Requirement already satisfied: itsdangerous>=2.0 in /usr/local/lib/python3.7/dist-packages (from flask>=1.1.1->visualdl>=2.2.0->-r requirements.txt (line 4)) (2.1.2)\n",
      "Requirement already satisfied: future>=0.6.0 in /usr/local/lib/python3.7/dist-packages (from bce-python-sdk->visualdl>=2.2.0->-r requirements.txt (line 4)) (0.18.3)\n",
      "Requirement already satisfied: sympy in /usr/local/lib/python3.7/dist-packages (from x2paddle->visualdl>=2.2.0->-r requirements.txt (line 4)) (1.10.1)\n",
      "Requirement already satisfied: certifi>=2017.4.17 in /usr/local/lib/python3.7/dist-packages (from requests->visualdl>=2.2.0->-r requirements.txt (line 4)) (2022.6.15)\n",
      "Requirement already satisfied: charset-normalizer<3,>=2 in /usr/local/lib/python3.7/dist-packages (from requests->visualdl>=2.2.0->-r requirements.txt (line 4)) (2.1.0)\n",
      "Requirement already satisfied: idna<4,>=2.5 in /usr/local/lib/python3.7/dist-packages (from requests->visualdl>=2.2.0->-r requirements.txt (line 4)) (3.3)\n",
      "Requirement already satisfied: urllib3<1.27,>=1.21.1 in /usr/local/lib/python3.7/dist-packages (from requests->visualdl>=2.2.0->-r requirements.txt (line 4)) (1.26.11)\n",
      "Requirement already satisfied: Babel<3.0.0,>=2.11.0 in /usr/local/lib/python3.7/dist-packages (from Flask-Babel>=3.0.0->visualdl>=2.2.0->-r requirements.txt (line 4)) (2.12.1)\n",
      "Requirement already satisfied: joblib>=0.11 in /usr/local/lib/python3.7/dist-packages (from scikit-learn->sklearn==0.0->-r requirements.txt (line 17)) (1.2.0)\n",
      "Requirement already satisfied: threadpoolctl>=2.0.0 in /usr/local/lib/python3.7/dist-packages (from scikit-learn->sklearn==0.0->-r requirements.txt (line 17)) (3.1.0)\n",
      "Requirement already satisfied: sniffio in /usr/local/lib/python3.7/dist-packages (from httpx->gradio->visualdl>=2.2.0->-r requirements.txt (line 4)) (1.3.0)\n",
      "Requirement already satisfied: httpcore<0.17.0,>=0.15.0 in /usr/local/lib/python3.7/dist-packages (from httpx->gradio->visualdl>=2.2.0->-r requirements.txt (line 4)) (0.16.3)\n",
      "Requirement already satisfied: rfc3986[idna2008]<2,>=1.3 in /usr/local/lib/python3.7/dist-packages (from httpx->gradio->visualdl>=2.2.0->-r requirements.txt (line 4)) (1.5.0)\n",
      "Requirement already satisfied: mdurl~=0.1 in /usr/local/lib/python3.7/dist-packages (from markdown-it-py[linkify]>=2.0.0->gradio->visualdl>=2.2.0->-r requirements.txt (line 4)) (0.1.2)\n",
      "Requirement already satisfied: linkify-it-py<3,>=1; extra == \"linkify\" in /usr/local/lib/python3.7/dist-packages (from markdown-it-py[linkify]>=2.0.0->gradio->visualdl>=2.2.0->-r requirements.txt (line 4)) (2.0.0)\n",
      "Requirement already satisfied: h11>=0.8 in /usr/local/lib/python3.7/dist-packages (from uvicorn->gradio->visualdl>=2.2.0->-r requirements.txt (line 4)) (0.14.0)\n",
      "Requirement already satisfied: jsonschema>=3.0 in /usr/local/lib/python3.7/dist-packages (from altair>=4.2.0->gradio->visualdl>=2.2.0->-r requirements.txt (line 4)) (4.17.3)\n",
      "Requirement already satisfied: entrypoints in /root/.local/lib/python3.7/site-packages (from altair>=4.2.0->gradio->visualdl>=2.2.0->-r requirements.txt (line 4)) (0.4)\n",
      "Requirement already satisfied: toolz in /usr/local/lib/python3.7/dist-packages (from altair>=4.2.0->gradio->visualdl>=2.2.0->-r requirements.txt (line 4)) (0.12.0)\n",
      "Requirement already satisfied: starlette<0.26.0,>=0.25.0 in /usr/local/lib/python3.7/dist-packages (from fastapi->gradio->visualdl>=2.2.0->-r requirements.txt (line 4)) (0.25.0)\n",
      "Requirement already satisfied: yarl<2.0,>=1.0 in /usr/local/lib/python3.7/dist-packages (from aiohttp->gradio->visualdl>=2.2.0->-r requirements.txt (line 4)) (1.8.2)\n",
      "Requirement already satisfied: aiosignal>=1.1.2 in /usr/local/lib/python3.7/dist-packages (from aiohttp->gradio->visualdl>=2.2.0->-r requirements.txt (line 4)) (1.3.1)\n",
      "Requirement already satisfied: asynctest==0.13.0; python_version < \"3.8\" in /usr/local/lib/python3.7/dist-packages (from aiohttp->gradio->visualdl>=2.2.0->-r requirements.txt (line 4)) (0.13.0)\n",
      "Requirement already satisfied: attrs>=17.3.0 in /usr/local/lib/python3.7/dist-packages (from aiohttp->gradio->visualdl>=2.2.0->-r requirements.txt (line 4)) (22.1.0)\n",
      "Requirement already satisfied: async-timeout<5.0,>=4.0.0a3 in /usr/local/lib/python3.7/dist-packages (from aiohttp->gradio->visualdl>=2.2.0->-r requirements.txt (line 4)) (4.0.2)\n",
      "Requirement already satisfied: frozenlist>=1.1.1 in /usr/local/lib/python3.7/dist-packages (from aiohttp->gradio->visualdl>=2.2.0->-r requirements.txt (line 4)) (1.3.3)\n",
      "Requirement already satisfied: multidict<7.0,>=4.5 in /usr/local/lib/python3.7/dist-packages (from aiohttp->gradio->visualdl>=2.2.0->-r requirements.txt (line 4)) (6.0.4)\n",
      "Requirement already satisfied: brotli in /usr/local/lib/python3.7/dist-packages (from geventhttpclient<=2.0.2,>=1.4.4; extra == \"all\"->tritonclient[all]->visualdl>=2.2.0->-r requirements.txt (line 4)) (1.0.9)\n",
      "Requirement already satisfied: gevent>=0.13 in /usr/local/lib/python3.7/dist-packages (from geventhttpclient<=2.0.2,>=1.4.4; extra == \"all\"->tritonclient[all]->visualdl>=2.2.0->-r requirements.txt (line 4)) (22.10.2)\n",
      "Requirement already satisfied: zipp>=0.5 in /usr/local/lib/python3.7/dist-packages (from importlib-metadata>=3.6.0; python_version < \"3.10\"->flask>=1.1.1->visualdl>=2.2.0->-r requirements.txt (line 4)) (3.8.1)\n",
      "Requirement already satisfied: mpmath>=0.19 in /usr/local/lib/python3.7/dist-packages (from sympy->x2paddle->visualdl>=2.2.0->-r requirements.txt (line 4)) (1.2.1)\n",
      "Requirement already satisfied: anyio<5.0,>=3.0 in /usr/local/lib/python3.7/dist-packages (from httpcore<0.17.0,>=0.15.0->httpx->gradio->visualdl>=2.2.0->-r requirements.txt (line 4)) (3.6.2)\n",
      "Requirement already satisfied: uc-micro-py in /usr/local/lib/python3.7/dist-packages (from linkify-it-py<3,>=1; extra == \"linkify\"->markdown-it-py[linkify]>=2.0.0->gradio->visualdl>=2.2.0->-r requirements.txt (line 4)) (1.0.1)\n",
      "Requirement already satisfied: pyrsistent!=0.17.0,!=0.17.1,!=0.17.2,>=0.14.0 in /usr/local/lib/python3.7/dist-packages (from jsonschema>=3.0->altair>=4.2.0->gradio->visualdl>=2.2.0->-r requirements.txt (line 4)) (0.19.3)\n",
      "Requirement already satisfied: pkgutil-resolve-name>=1.3.10; python_version < \"3.9\" in /usr/local/lib/python3.7/dist-packages (from jsonschema>=3.0->altair>=4.2.0->gradio->visualdl>=2.2.0->-r requirements.txt (line 4)) (1.3.10)\n",
      "Requirement already satisfied: importlib-resources>=1.4.0; python_version < \"3.9\" in /usr/local/lib/python3.7/dist-packages (from jsonschema>=3.0->altair>=4.2.0->gradio->visualdl>=2.2.0->-r requirements.txt (line 4)) (5.12.0)\n",
      "Requirement already satisfied: zope.event in /usr/local/lib/python3.7/dist-packages (from gevent>=0.13->geventhttpclient<=2.0.2,>=1.4.4; extra == \"all\"->tritonclient[all]->visualdl>=2.2.0->-r requirements.txt (line 4)) (4.6)\n",
      "Requirement already satisfied: greenlet>=2.0.0; platform_python_implementation == \"CPython\" in /usr/local/lib/python3.7/dist-packages (from gevent>=0.13->geventhttpclient<=2.0.2,>=1.4.4; extra == \"all\"->tritonclient[all]->visualdl>=2.2.0->-r requirements.txt (line 4)) (2.0.2)\n",
      "Requirement already satisfied: zope.interface in /usr/local/lib/python3.7/dist-packages (from gevent>=0.13->geventhttpclient<=2.0.2,>=1.4.4; extra == \"all\"->tritonclient[all]->visualdl>=2.2.0->-r requirements.txt (line 4)) (5.5.2)\n",
      "/jinx/table_struct/baiduwangpan_AI_tablestruct_10\n"
     ]
    }
   ],
   "source": [
    "# 安装其他依赖\n",
    "%cd ./PaddleDetection\n",
    "! pip install -r requirements.txt\n",
    "%cd .."
   ]
  },
  {
   "attachments": {},
   "cell_type": "markdown",
   "metadata": {},
   "source": [
    "# 3.训练集转成voc"
   ]
  },
  {
   "cell_type": "code",
   "execution_count": 8,
   "metadata": {},
   "outputs": [
    {
     "name": "stderr",
     "output_type": "stream",
     "text": [
      "100%|██████████| 7742/7742 [00:47<00:00, 162.93it/s]\n",
      "100%|██████████| 10241/10241 [01:16<00:00, 134.38it/s]\n"
     ]
    }
   ],
   "source": [
    "# 转voc\n",
    "# thanks to https://blog.csdn.net/hu694028833/article/details/81089959\n",
    "\n",
    "import xml.dom.minidom as minidom\n",
    "import cv2\n",
    "import json\n",
    "from tqdm import tqdm\n",
    "from os.path import join as pjoin\n",
    "\n",
    "\n",
    "def anno_to_voc(annos_path, img_dir, annotation_dir, train_path):\n",
    "    \"\"\"\n",
    "    Args:\n",
    "        annos_path (str): 官方默认标注格式\n",
    "        img_dir (str): 图片所在目录\n",
    "        annotation_dir (str): voc格式保存, annotation文件夹路径\n",
    "        train_path (str): voc格式保存, train文件路径\n",
    "    \"\"\"\n",
    "    with open(annos_path, 'r') as f:\n",
    "        data = json.load(f)\n",
    "    os.makedirs(annotation_dir, exist_ok=True)\n",
    "    def to_voc(train_path, annotation_dir, img_dir, data):\n",
    "        with open(train_path, 'w') as fw:\n",
    "            for name in tqdm(data.keys()):\n",
    "                img_path = pjoin(img_dir, name)\n",
    "                save_path = pjoin(annotation_dir, name.split('.')[0]+'.xml')\n",
    "                try:\n",
    "                    # generate xml\n",
    "                    img = cv2.imread(img_path)\n",
    "                    h,w,c = img.shape\n",
    "\n",
    "                    dom = minidom.getDOMImplementation().createDocument(None,'annotations',None)\n",
    "                    root = dom.documentElement\n",
    "\n",
    "                    element = dom.createElement('filename')\n",
    "                    element.appendChild(dom.createTextNode(img_path.split('/')[-1]))\n",
    "                    root.appendChild(element)\n",
    "\n",
    "                    element = dom.createElement('size')\n",
    "                    element_c = dom.createElement('width')\n",
    "                    element_c.appendChild(dom.createTextNode(str(w)))\n",
    "                    element.appendChild(element_c)\n",
    "                    element_c = dom.createElement('height')\n",
    "                    element_c.appendChild(dom.createTextNode(str(h)))\n",
    "                    element.appendChild(element_c)\n",
    "                    element_c = dom.createElement('depth')\n",
    "                    element_c.appendChild(dom.createTextNode(str(c)))\n",
    "                    element.appendChild(element_c)\n",
    "                    root.appendChild(element)\n",
    "\n",
    "                    objects = data[name]\n",
    "                    for a_object in objects:\n",
    "                        element = dom.createElement('object')\n",
    "\n",
    "                        element_c = dom.createElement('name')\n",
    "                        element_c.appendChild(dom.createTextNode(a_object['label']))\n",
    "                        element.appendChild(element_c)\n",
    "\n",
    "                        element_c = dom.createElement('bndbox')\n",
    "                        \n",
    "                        element.appendChild(element_c)\n",
    "                        element_cc = dom.createElement('xmin')\n",
    "                        element_cc.appendChild(dom.createTextNode(str(a_object['box'][0])))\n",
    "                        element_c.appendChild(element_cc)\n",
    "                        element_cc = dom.createElement('ymin')\n",
    "                        element_cc.appendChild(dom.createTextNode(str(a_object['box'][1])))\n",
    "                        element_c.appendChild(element_cc)\n",
    "                        element_cc = dom.createElement('xmax')\n",
    "                        element_cc.appendChild(dom.createTextNode(str(a_object['box'][2])))\n",
    "                        element_c.appendChild(element_cc)\n",
    "                        element_cc = dom.createElement('ymax')\n",
    "                        element_cc.appendChild(dom.createTextNode(str(a_object['box'][3])))\n",
    "\n",
    "                        element_c.appendChild(element_cc)\n",
    "\n",
    "                        root.appendChild(element)\n",
    "                    with open(save_path, 'w', encoding='utf-8') as f:\n",
    "                        dom.writexml(f, addindent='\\t', newl='\\n',encoding='utf-8')\n",
    "                except:\n",
    "                    print(name)\n",
    "                    continue\n",
    "                fw.write(img_path+' '+save_path+'\\n')\n",
    "\n",
    "    to_voc(train_path, annotation_dir, img_dir, data)\n",
    "\n",
    "# 官方数据集转成voc\n",
    "anno_to_voc(annos_path, train_imgs_dir, pjoin(data_dir, 'train/annotations'), pjoin(data_dir, 'train.txt'))\n",
    "# 扩展数据集转成voc\n",
    "anno_to_voc(ext_annos_path, ext_imgs_dir, pjoin(data_dir, 'ext_annotations'), pjoin(data_dir, 'ext_train.txt'))\n",
    "\n",
    "# 写入lable.txt文件\n",
    "with open(pjoin(data_dir, 'label_list.txt'), 'w') as f:\n",
    "    f.write(\"table\\nrow\\ncolumn\\nspanning_cell\")"
   ]
  },
  {
   "attachments": {},
   "cell_type": "markdown",
   "metadata": {},
   "source": [
    "# 4.训练\n",
    "训练模型我们使用的是ppyoloe_plus\n",
    "先使用预训练模型 https://bj.bcebos.com/v1/paddledet/models/pretrained/ppyoloe_crn_l_obj365_pretrained.pdparams 和 官方数据集训练80e, 再使用扩展数据集训练100e\n",
    "\n",
    "注意:\n",
    "    记得修改配置文件的一些路径\n",
    "    ![数据集目录修改](./img/%E6%95%B0%E6%8D%AE%E9%9B%86%E7%9B%AE%E5%BD%95%E4%BF%AE%E6%94%B9.png)"
   ]
  },
  {
   "cell_type": "code",
   "execution_count": 9,
   "metadata": {},
   "outputs": [
    {
     "data": {
      "text/plain": [
       "'/jinx/table_struct/baiduwangpan_AI_tablestruct_10/PaddleDetection/configs/datasets/ext_voc.yml'"
      ]
     },
     "execution_count": 9,
     "metadata": {},
     "output_type": "execute_result"
    }
   ],
   "source": [
    "# 复制训练配置文件\n",
    "myPPYoloeVoce_60e_path = pjoin(workr_space, 'configs/myPPYoloeVoce_60e.yml')\n",
    "ext_myPPYoloeVoce_120e_path = pjoin(workr_space, 'configs/ext_myPPYoloeVoce_120e.yml')\n",
    "config_dir = pjoin(workr_space, 'PaddleDetection/configs/ppyoloe/')\n",
    "shutil.copy2(myPPYoloeVoce_60e_path, config_dir)\n",
    "shutil.copy2(ext_myPPYoloeVoce_120e_path, config_dir)\n",
    "\n",
    "# 复制数据集配置文件\n",
    "myPPYoloeVoce_60e_voc_path = pjoin(workr_space, 'configs/voc.yml')\n",
    "myPPYoloeVoce_60e_ext_voc_path = pjoin(workr_space, 'configs/ext_voc.yml')\n",
    "dataset_dir = pjoin(workr_space, 'PaddleDetection/configs/datasets/')\n",
    "shutil.copy2(myPPYoloeVoce_60e_voc_path, dataset_dir)\n",
    "shutil.copy2(myPPYoloeVoce_60e_ext_voc_path, dataset_dir)"
   ]
  },
  {
   "cell_type": "code",
   "execution_count": 10,
   "metadata": {},
   "outputs": [
    {
     "name": "stdout",
     "output_type": "stream",
     "text": [
      "/jinx/table_struct/baiduwangpan_AI_tablestruct_10/PaddleDetection\n",
      "grep: warning: GREP_OPTIONS is deprecated; please use an alias or script\n",
      "/root/.local/lib/python3.7/site-packages/pkg_resources/__init__.py:2804: DeprecationWarning: Deprecated call to `pkg_resources.declare_namespace('mpl_toolkits')`.\n",
      "Implementing implicit namespace packages (as specified in PEP 420) is preferred to `pkg_resources.declare_namespace`. See https://setuptools.pypa.io/en/latest/references/keywords.html#keyword-namespace-packages\n",
      "  declare_namespace(pkg)\n",
      "/root/.local/lib/python3.7/site-packages/pkg_resources/__init__.py:2804: DeprecationWarning: Deprecated call to `pkg_resources.declare_namespace('google')`.\n",
      "Implementing implicit namespace packages (as specified in PEP 420) is preferred to `pkg_resources.declare_namespace`. See https://setuptools.pypa.io/en/latest/references/keywords.html#keyword-namespace-packages\n",
      "  declare_namespace(pkg)\n",
      "/root/.local/lib/python3.7/site-packages/pkg_resources/__init__.py:2804: DeprecationWarning: Deprecated call to `pkg_resources.declare_namespace('zope')`.\n",
      "Implementing implicit namespace packages (as specified in PEP 420) is preferred to `pkg_resources.declare_namespace`. See https://setuptools.pypa.io/en/latest/references/keywords.html#keyword-namespace-packages\n",
      "  declare_namespace(pkg)\n",
      "/root/.local/lib/python3.7/site-packages/pkg_resources/__init__.py:2804: DeprecationWarning: Deprecated call to `pkg_resources.declare_namespace('zope')`.\n",
      "Implementing implicit namespace packages (as specified in PEP 420) is preferred to `pkg_resources.declare_namespace`. See https://setuptools.pypa.io/en/latest/references/keywords.html#keyword-namespace-packages\n",
      "  declare_namespace(pkg)\n",
      "Warning: Unable to use numba in PP-Tracking, please install numba, for example(python3.7): `pip install numba==0.56.4`\n",
      "Warning: Unable to use numba in PP-Tracking, please install numba, for example(python3.7): `pip install numba==0.56.4`\n",
      "Warning: import ppdet from source directory without installing, run 'python setup.py install' to install ppdet firstly\n",
      "W0304 09:53:02.233515 14905 gpu_resources.cc:61] Please NOTE: device: 0, GPU Compute Capability: 8.0, Driver API Version: 11.2, Runtime API Version: 11.2\n",
      "W0304 09:53:02.236968 14905 gpu_resources.cc:91] device: 0, cuDNN Version: 8.2.\n",
      "^C\n",
      "/jinx/table_struct/baiduwangpan_AI_tablestruct_10\n"
     ]
    }
   ],
   "source": [
    "# 训练官方数据集60e\n",
    "%cd PaddleDetection\n",
    "! export CUDA_VISIBLE_DEVICES=0 #windows和Mac下不需要执行该命令\n",
    "! python tools/train.py -c configs/ppyoloe/myPPYoloeVoce_60e.yml\n",
    "%cd .."
   ]
  },
  {
   "cell_type": "code",
   "execution_count": null,
   "metadata": {},
   "outputs": [],
   "source": [
    "# 训练扩展数据集120e\n",
    "%cd PaddleDetection\n",
    "! export CUDA_VISIBLE_DEVICES=0 #windows和Mac下不需要执行该命令\n",
    "! python tools/train.py -c configs/ppyoloe/ext_myPPYoloeVoce_120e.yml\n",
    "%cd .."
   ]
  },
  {
   "cell_type": "code",
   "execution_count": 3,
   "metadata": {},
   "outputs": [
    {
     "name": "stdout",
     "output_type": "stream",
     "text": [
      "/jinx/table_struct/PaddleDetection\n",
      "grep: warning: GREP_OPTIONS is deprecated; please use an alias or script\n",
      "/root/.local/lib/python3.7/site-packages/pkg_resources/__init__.py:2804: DeprecationWarning: Deprecated call to `pkg_resources.declare_namespace('mpl_toolkits')`.\n",
      "Implementing implicit namespace packages (as specified in PEP 420) is preferred to `pkg_resources.declare_namespace`. See https://setuptools.pypa.io/en/latest/references/keywords.html#keyword-namespace-packages\n",
      "  declare_namespace(pkg)\n",
      "/root/.local/lib/python3.7/site-packages/pkg_resources/__init__.py:2804: DeprecationWarning: Deprecated call to `pkg_resources.declare_namespace('google')`.\n",
      "Implementing implicit namespace packages (as specified in PEP 420) is preferred to `pkg_resources.declare_namespace`. See https://setuptools.pypa.io/en/latest/references/keywords.html#keyword-namespace-packages\n",
      "  declare_namespace(pkg)\n",
      "/root/.local/lib/python3.7/site-packages/pkg_resources/__init__.py:2804: DeprecationWarning: Deprecated call to `pkg_resources.declare_namespace('zope')`.\n",
      "Implementing implicit namespace packages (as specified in PEP 420) is preferred to `pkg_resources.declare_namespace`. See https://setuptools.pypa.io/en/latest/references/keywords.html#keyword-namespace-packages\n",
      "  declare_namespace(pkg)\n",
      "/root/.local/lib/python3.7/site-packages/pkg_resources/__init__.py:2804: DeprecationWarning: Deprecated call to `pkg_resources.declare_namespace('zope')`.\n",
      "Implementing implicit namespace packages (as specified in PEP 420) is preferred to `pkg_resources.declare_namespace`. See https://setuptools.pypa.io/en/latest/references/keywords.html#keyword-namespace-packages\n",
      "  declare_namespace(pkg)\n",
      "[03/03 01:30:53] ppdet.utils.checkpoint INFO: Finish loading model weights: output/adjust_ext_myPPYoloeVoc_40e/model_final.pdparams\n",
      "[03/03 01:30:54] ppdet.engine INFO: Export inference config file to /jinx/table_struct/mymodel/adjust_ext_myPPYoloeVoc_40e/infer_cfg.yml\n",
      "[03/03 01:30:59] ppdet.engine INFO: Export model and saved in /jinx/table_struct/mymodel/adjust_ext_myPPYoloeVoc_40e\n"
     ]
    }
   ],
   "source": [
    "# 模型导出\n",
    "%cd PaddleDetection\n",
    "# 注意修改output_dir目录的路径, 这是你模型输出的目录\n",
    "! python tools/export_model.py -c configs/ppyoloe/ext_myPPYoloeVoce_120e.yml  --output_dir=baiduwangpan_AI_tablestruct_10/mymodel/  -o weights=output/ext_myPPYoloeVoce_120e/model_final\n",
    "%cd .."
   ]
  },
  {
   "attachments": {},
   "cell_type": "markdown",
   "metadata": {},
   "source": [
    "# 一个预测脚本"
   ]
  },
  {
   "cell_type": "code",
   "execution_count": 3,
   "metadata": {},
   "outputs": [
    {
     "name": "stderr",
     "output_type": "stream",
     "text": [
      "W0304 14:22:25.126752 16308 gpu_resources.cc:61] Please NOTE: device: 0, GPU Compute Capability: 8.0, Driver API Version: 11.2, Runtime API Version: 11.2\n",
      "W0304 14:22:25.129945 16308 gpu_resources.cc:91] device: 0, cuDNN Version: 8.2.\n"
     ]
    }
   ],
   "source": [
    "\n",
    "import paddle\n",
    "import cv2\n",
    "import numpy as np\n",
    "import os\n",
    "from os.path import join as pjoin\n",
    "\n",
    "# model = paddle.jit.load('/jinx/table_struct/mymodel/adjust_ext_myPPYoloeVoc_40e/model')\n",
    "model = paddle.jit.load(pjoin(workr_space, 'mymodel/ext_myPPYoloeVoce_120e/model'))\n",
    "                        \n",
    "model.eval()\n",
    "\n",
    "test_img_dir = pjoin(data_dir, 'pubtest/imgs') \n",
    "\n",
    "pre_li = list()\n",
    "\n",
    "\n",
    "def pre_img(test_img_path):\n",
    "    img = cv2.imread(test_img_path)\n",
    "    h, w, c = img.shape\n",
    "\n",
    "    input_size = (640,640)\n",
    "    scale_factor = [input_size[0] / img.shape[0], input_size[1] / img.shape[1]]\n",
    "    factor = np.array(scale_factor, dtype=np.float32)\n",
    "    factor = paddle.to_tensor(factor).reshape((1, 2)).astype('float32')\n",
    "\n",
    "    img = cv2.resize(img, (640, 640))\n",
    "    img = img/255\n",
    "    # 第一个列表是mean, 第二个列表是std\n",
    "    img = (img-np.array([0.0, 0.0, 0.0]))/np.array([1.0, 1.0, 1.0])\n",
    "    img = img.transpose([2,0,1])\n",
    "    img = paddle.to_tensor(img).astype('float32')\n",
    "    img = paddle.reshape(img,[1]+img.shape)\n",
    "    pre = model(img, factor)\n",
    "    return pre\n",
    "\n",
    "test_img_path_li = list()\n",
    "test_img_name_li = list()\n",
    "\n",
    "test_img_name_li = os.listdir(test_img_dir)\n",
    "test_img_path_li = [ os.path.join(test_img_dir, test_img) for test_img in test_img_name_li]\n",
    "pre_li = list()\n",
    "\n",
    "for test_img_path in test_img_path_li:\n",
    "    pre = pre_img(test_img_path)\n",
    "    pre_li.append(pre)\n",
    "\n"
   ]
  },
  {
   "cell_type": "code",
   "execution_count": 8,
   "metadata": {},
   "outputs": [],
   "source": [
    "# 测试效果可视化\n",
    "\"\"\"\n",
    "table\n",
    "row\n",
    "column\n",
    "spanning_cell\n",
    "\"\"\"\n",
    "\n",
    "color_dict = {\n",
    "    0.0 : (0, 0, 0), # table 黑色\n",
    "    1.0 :  (169, 169, 169), # row grey\n",
    "    2.0 : (216, 99, 67), #  column bulue \n",
    "    3.0 :   (25, 225, 255), # spanning_cell 黄色\n",
    "}\n",
    "# \n",
    "test_A_result_dir =  pjoin(workr_space, 'ext_myPPYoloeVoc_120e_result')\n",
    "\n",
    "if not os.path.exists(test_A_result_dir):\n",
    "    os.makedirs(test_A_result_dir)\n",
    "\n",
    "for i in range(len(pre_li)):\n",
    "\n",
    "    pre= pre_li[i]\n",
    "    img = cv2.imread(test_img_path_li[i])\n",
    "    \n",
    "    for item in pre[0].numpy():\n",
    "        lable_index, value, xmin, ymin, xmax, ymax = item\n",
    "        xmin ,ymin, xmax, ymax = [int(x) for x in [xmin ,ymin, xmax, ymax]]\n",
    "        # if value > 0.46:\n",
    "        if value > 0.52: # ext_myPPYoloeVoc_l_100e_test_A_result\n",
    "            thickness = 3\n",
    "            if lable_index == 0.0:\n",
    "                thickness = 20\n",
    "            img = cv2.rectangle(img, (xmin, ymin), (xmax,ymax),color = color_dict[lable_index], thickness=thickness)\n",
    "    cv2.imwrite(os.path.join(test_A_result_dir, test_img_name_li[i]),img)\n"
   ]
  },
  {
   "cell_type": "code",
   "execution_count": 5,
   "metadata": {},
   "outputs": [
    {
     "name": "stdout",
     "output_type": "stream",
     "text": [
      "Error: Can not import paddle core while this file exists: /usr/local/lib/python3.7/dist-packages/paddle/fluid/libpaddle.so\n",
      "grep: warning: GREP_OPTIONS is deprecated; please use an alias or script\n",
      "Traceback (most recent call last):\n",
      "  File \"predict.py\", line 9, in <module>\n",
      "    import paddle\n",
      "  File \"/usr/local/lib/python3.7/dist-packages/paddle/__init__.py\", line 25, in <module>\n",
      "    from .framework import monkey_patch_variable\n",
      "  File \"/usr/local/lib/python3.7/dist-packages/paddle/framework/__init__.py\", line 17, in <module>\n",
      "    from . import random  # noqa: F401\n",
      "  File \"/usr/local/lib/python3.7/dist-packages/paddle/framework/random.py\", line 16, in <module>\n",
      "    import paddle.fluid as fluid\n",
      "  File \"/usr/local/lib/python3.7/dist-packages/paddle/fluid/__init__.py\", line 36, in <module>\n",
      "    from . import framework\n",
      "  File \"/usr/local/lib/python3.7/dist-packages/paddle/fluid/framework.py\", line 37, in <module>\n",
      "    from . import core\n",
      "  File \"/usr/local/lib/python3.7/dist-packages/paddle/fluid/core.py\", line 304, in <module>\n",
      "    raise e\n",
      "  File \"/usr/local/lib/python3.7/dist-packages/paddle/fluid/core.py\", line 249, in <module>\n",
      "    from . import libpaddle\n",
      "ImportError: /usr/lib/x86_64-linux-gnu/libGLX.so.0: undefined symbol: pthread_mutex_lock\n"
     ]
    }
   ],
   "source": [
    "! python predict.py data/pubtest/imgs test_A_result"
   ]
  },
  {
   "cell_type": "code",
   "execution_count": 6,
   "metadata": {},
   "outputs": [
    {
     "name": "stdout",
     "output_type": "stream",
     "text": [
      "  adding: predict.py (deflated 58%)\n",
      "  adding: mymodel/ext_myPPYoloeVoce_120e/ (stored 0%)\n",
      "  adding: mymodel/ext_myPPYoloeVoce_120e/model.pdmodel (deflated 93%)\n",
      "  adding: mymodel/ext_myPPYoloeVoce_120e/model.pdiparams.info (deflated 83%)\n",
      "  adding: mymodel/ext_myPPYoloeVoce_120e/infer_cfg.yml (deflated 37%)\n",
      "  adding: mymodel/ext_myPPYoloeVoce_120e/model.pdiparams (deflated 7%)\n"
     ]
    }
   ],
   "source": [
    "# 打包提交\n",
    "! zip -r ext_myPPYoloeVoc_120e_submit.zip predict.py mymodel/ext_myPPYoloeVoce_120e"
   ]
  }
 ],
 "metadata": {
  "kernelspec": {
   "display_name": "Python 3",
   "language": "python",
   "name": "python3"
  },
  "language_info": {
   "codemirror_mode": {
    "name": "ipython",
    "version": 3
   },
   "file_extension": ".py",
   "mimetype": "text/x-python",
   "name": "python",
   "nbconvert_exporter": "python",
   "pygments_lexer": "ipython3",
   "version": "3.7.13"
  },
  "orig_nbformat": 4,
  "vscode": {
   "interpreter": {
    "hash": "767d51c1340bd893661ea55ea3124f6de3c7a262a8b4abca0554b478b1e2ff90"
   }
  }
 },
 "nbformat": 4,
 "nbformat_minor": 2
}
